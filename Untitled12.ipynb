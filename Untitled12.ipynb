{
  "nbformat": 4,
  "nbformat_minor": 0,
  "metadata": {
    "colab": {
      "provenance": [],
      "authorship_tag": "ABX9TyMYSxmVgY0l4hKu3pcuWjrE",
      "include_colab_link": true
    },
    "kernelspec": {
      "name": "python3",
      "display_name": "Python 3"
    },
    "language_info": {
      "name": "python"
    }
  },
  "cells": [
    {
      "cell_type": "markdown",
      "metadata": {
        "id": "view-in-github",
        "colab_type": "text"
      },
      "source": [
        "<a href=\"https://colab.research.google.com/github/atta11111111/random-codes-/blob/main/Untitled12.ipynb\" target=\"_parent\"><img src=\"https://colab.research.google.com/assets/colab-badge.svg\" alt=\"Open In Colab\"/></a>"
      ]
    },
    {
      "cell_type": "code",
      "execution_count": null,
      "metadata": {
        "colab": {
          "base_uri": "https://localhost:8080/"
        },
        "id": "glvkOSq7KXxY",
        "outputId": "6c4f8ee7-834c-4f30-db2b-8d38aa41104c"
      },
      "outputs": [
        {
          "metadata": {
            "tags": null
          },
          "name": "stdout",
          "output_type": "stream",
          "text": [
            "\n",
            "Welcome to the ATM!\n",
            "1. Check Balance\n",
            "2. Deposit Cash\n",
            "3. Withdraw Cash\n",
            "4. Exit\n",
            "Your current balance is: 50000\n",
            "\n",
            "Welcome to the ATM!\n",
            "1. Check Balance\n",
            "2. Deposit Cash\n",
            "3. Withdraw Cash\n",
            "4. Exit\n"
          ]
        }
      ],
      "source": [
        "def atm_machine():\n",
        "    balance = 50000  # Initial balance\n",
        "\n",
        "    while True:\n",
        "        print(\"\\nWelcome to the ATM!\")\n",
        "        print(\"1. Check Balance\")\n",
        "        print(\"2. Deposit Cash\")\n",
        "        print(\"3. Withdraw Cash\")\n",
        "        print(\"4. Exit\")\n",
        "\n",
        "        choice = int(input(\"Enter your choice: \"))\n",
        "\n",
        "        if choice == 1:\n",
        "            print(\"Your current balance is:\", balance)\n",
        "        elif choice == 2:\n",
        "            amount = float(input(\"Enter amount to deposit: \"))\n",
        "            balance += amount\n",
        "            print(\"Deposit successful. Your new balance is:\", balance)\n",
        "        elif choice == 3:\n",
        "            amount = float(input(\"Enter amount to withdraw: \"))\n",
        "            if amount > balance:\n",
        "                print(\"Insufficient balance.\")\n",
        "            else:\n",
        "                balance -= amount\n",
        "                print(\"Withdrawal successful. Your remaining balance is:\", balance)\n",
        "        elif choice == 4:\n",
        "            print(\"Thank you for using the ATM!\")\n",
        "            break\n",
        "        else:\n",
        "            print(\"Invalid choice. Please try again.\")\n",
        "\n",
        "# Start the ATM simulation\n",
        "atm_machine()"
      ]
    }
  ]
}